{
 "cells": [
  {
   "cell_type": "markdown",
   "metadata": {},
   "source": [
    "<img style=\"float: left;\" src=\"earth-lab-logo-rgb.png\" width=\"150\" height=\"150\" />\n",
    "\n",
    "# Earth Analytics Education - Bootcamp Course Fall 2020"
   ]
  },
  {
   "cell_type": "markdown",
   "metadata": {},
   "source": [
    "## Important !! \n",
    "\n",
    "1. Before you turn in your assignment, make sure to run the entire notebook with a fresh kernel. To do this first, **restart the kernel** (in the menubar, select Kernel$\\rightarrow$Restart & Run All)\n",
    "2. In the cells below you will replace the `raise NotImplementedError()` code with your code that addresses the activity challenge. If you don't replace that code, your notebook will not run properly.\n",
    "\n",
    "```\n",
    "# YOUR CODE HERE\n",
    "raise NotImplementedError()\n",
    "```\n",
    "\n",
    "3. Any open ended questions will have a \"YOUR ANSWER HERE\" within a markdown cell. Replace that text with your answer also formatted using Markdown.\n",
    "4. **IMPORTANT: DO NOT RENAME THIS NOTEBOOK!** If the file name changes, the autograder will not grade your assignment properly.\n",
    "\n",
    "## Follow to PEP 8 Syntax Guidelines\n",
    "\n",
    "* Run the `autopep8` tool on all cells prior to submitting (HINT: hit shift + the tool to run it on all cells at once!\n",
    "* Use clear and expressive names for variables. \n",
    "* Organize your code to support readability.\n",
    "* Check for code line length\n",
    "* Use comments and white space sparingly where it is needed\n"
   ]
  },
  {
   "cell_type": "markdown",
   "metadata": {},
   "source": [
    "### Add Your Name Below \n",
    "**Your Name:**"
   ]
  },
  {
   "cell_type": "markdown",
   "metadata": {},
   "source": [
    "<img style=\"float: left;\" src=\"colored-bar.png\"/>"
   ]
  },
  {
   "cell_type": "markdown",
   "metadata": {},
   "source": [
    "---"
   ]
  },
  {
   "cell_type": "markdown",
   "metadata": {
    "deletable": false,
    "editable": false,
    "nbgrader": {
     "cell_type": "markdown",
     "checksum": "73c52e461d4e6a6d0c795f507d82d141",
     "grade": false,
     "grade_id": "hw-instructions",
     "locked": true,
     "schema_version": 3,
     "solution": false
    }
   },
   "source": [
    "# Assignment 5 Homework - Pandas Dataframes\n",
    "\n",
    "Prior to completing assignment 5, be sure you have reviewed \n",
    "\n",
    "* <a href=\"https://www.earthdatascience.org/courses/intro-to-earth-data-science/scientific-data-structures-python/pandas-dataframes/\" target=\"_blank\">Chapter 15 in Section 6 of the Intro to Earth Data Science online textbook</a> which covers **pandas** dataframes.   \n",
    "* You can review the <a href=\"https://www.earthdatascience.org/courses/intro-to-earth-data-science/write-clean-expressive-code/intro-to-clean-code/python-pep-8-style-guide/\" target=\"_blank\">online textbook page on PEP 8 </a> as needed.\n",
    "\n",
    "Read the instructions below for each question carefully to complete the required tasks.\n",
    "\n",
    "## Assignment Data\n",
    "\n",
    "For this assignment, you will write **Python** code to download and work with data on fire occurrence in California between 1992 and 2015 provided by <a href=\"https://www.fs.usda.gov/rds/archive/Product/RDS-2013-0009.4/\" target=\"_blank\">the United States Forest Service</a>."
   ]
  },
  {
   "cell_type": "code",
   "execution_count": null,
   "metadata": {
    "deletable": false,
    "editable": false,
    "nbgrader": {
     "cell_type": "code",
     "checksum": "726b3644abef1e8db1bbdc1ab5fdc4b5",
     "grade": false,
     "grade_id": "core-imports",
     "locked": true,
     "schema_version": 3,
     "solution": false
    }
   },
   "outputs": [],
   "source": [
    "# Core imports needed for grading\n",
    "import matplotcheck.notebook as nb\n",
    "# Is the time series module used in this set of tests??\n",
    "from matplotcheck.base import PlotTester"
   ]
  },
  {
   "cell_type": "markdown",
   "metadata": {
    "deletable": false,
    "editable": false,
    "nbgrader": {
     "cell_type": "markdown",
     "checksum": "50cc8cd7ae4e56c0ef79fcf1ece86316",
     "grade": false,
     "grade_id": "cell-cd274524bd101ade",
     "locked": true,
     "schema_version": 3,
     "solution": false,
     "task": false
    }
   },
   "source": [
    "<img style=\"float: left;\" src=\"colored-bar.png\"/>"
   ]
  },
  {
   "cell_type": "markdown",
   "metadata": {
    "deletable": false,
    "editable": false,
    "nbgrader": {
     "cell_type": "markdown",
     "checksum": "a6bcbbbc67e0773fd07bc16b0e00d7e0",
     "grade": false,
     "grade_id": "question-student-imports",
     "locked": true,
     "schema_version": 3,
     "solution": false
    }
   },
   "source": [
    "## Import Python Packages\n",
    "\n",
    "In the cell below, add code **after the line for `Your Code Here`**, replacing `raise NotImplementedError()` with your code to import the packages/modules needed to:\n",
    "* create plots \n",
    "* set your working directory\n",
    "* download data using earthpy functions\n",
    "* work with pandas dataframes\n",
    "\n",
    "Be sure to list the package imports following the appropriate PEP 8 order. "
   ]
  },
  {
   "cell_type": "code",
   "execution_count": 1,
   "metadata": {
    "deletable": false,
    "nbgrader": {
     "cell_type": "code",
     "checksum": "20489880accefdb27a2f10ca8cc97835",
     "grade": false,
     "grade_id": "student-imports-answer",
     "locked": false,
     "schema_version": 3,
     "solution": true,
     "task": false
    }
   },
   "outputs": [],
   "source": [
    "# YOUR CODE HERE\n",
    "import os\n",
    "import matplotlib.pyplot as plt\n",
    "import earthpy as et\n",
    "import pandas as pd\n"
   ]
  },
  {
   "cell_type": "code",
   "execution_count": 2,
   "metadata": {
    "deletable": false,
    "editable": false,
    "nbgrader": {
     "cell_type": "code",
     "checksum": "db468135bfc17fe6796c27dc16fa4c33",
     "grade": true,
     "grade_id": "package-import-tests",
     "locked": true,
     "points": 4,
     "schema_version": 3,
     "solution": false,
     "task": false
    }
   },
   "outputs": [
    {
     "name": "stdout",
     "output_type": "stream",
     "text": [
      "✅ Score! Pandas has been imported as a pd!\n",
      "✅ Nice! matplotlib.pyplot has been imported as plt!\n",
      "✅ Great work! The os module has imported correctly!\n",
      "✅ Great work! The earthpy package has imported correctly!\n",
      "\n",
      " ➡ You received 4 out of 4 points.\n"
     ]
    },
    {
     "data": {
      "text/plain": [
       "4"
      ]
     },
     "execution_count": 2,
     "metadata": {},
     "output_type": "execute_result"
    }
   ],
   "source": [
    "# Test package imports - DO NOT MODIFY THIS CELL!\n",
    "import_answer_points = 0\n",
    "\n",
    "try:\n",
    "    pd.NA\n",
    "    print(\"\\u2705 Score! Pandas has been imported as a pd!\")\n",
    "    import_answer_points += 1\n",
    "except NameError:\n",
    "    print(\"\\u274C Pandas has not been imported as a pd, please make sure to import is properly.\")\n",
    "\n",
    "try:\n",
    "    plt.show()\n",
    "    print(\"\\u2705 Nice! matplotlib.pyplot has been imported as plt!\")\n",
    "    import_answer_points += 1\n",
    "except NameError:\n",
    "    print(\"matplotlib.pyplot has not been imported as plt, please make sure to import is properly.\")\n",
    "\n",
    "try:\n",
    "    os.getcwd()\n",
    "    print(\"\\u2705 Great work! The os module has imported correctly!\")\n",
    "    import_answer_points += 1\n",
    "except NameError:\n",
    "    print(\"\\u274C Oops make sure that the os package is imported.\")\n",
    "\n",
    "try:\n",
    "    data = et.io\n",
    "    print(\"\\u2705 Great work! The earthpy package has imported correctly!\")\n",
    "    import_answer_points += 1\n",
    "except NameError:\n",
    "    print(\"\\u274C Oops make sure that the earthpy package is imported using the alias et.\")\n",
    "\n",
    "print(\"\\n \\u27A1 You received {} out of 4 points.\".format(import_answer_points))\n",
    "\n",
    "import_answer_points"
   ]
  },
  {
   "cell_type": "markdown",
   "metadata": {
    "deletable": false,
    "editable": false,
    "nbgrader": {
     "cell_type": "markdown",
     "checksum": "c396d48a9a65353bcc27e5b2e4368664",
     "grade": false,
     "grade_id": "question-download-data",
     "locked": true,
     "schema_version": 3,
     "solution": false,
     "task": false
    }
   },
   "source": [
    "## Download Data Using EarthPy\n",
    "\n",
    "In the cell below, add code **after the line for `Your Code Here`**, replacing `raise NotImplementedError()` with your code, to complete the following task:\n",
    "\n",
    "* Download the following dataset using **earthpy**: \n",
    "    * ca-fires-1992-2015-gt-100-acres.csv from https://ndownloader.figshare.com/files/17980802\n",
    "        * The dataset contains one record for every fire greater than 100 acres that occurred between 1992 and 2015 in California. \n",
    "        * The dataset has columns for the size of the fire (acres) and for the year and month of the fire, along with other details about the cause, reporting agency, county name, etc."
   ]
  },
  {
   "cell_type": "code",
   "execution_count": 3,
   "metadata": {
    "deletable": false,
    "nbgrader": {
     "cell_type": "code",
     "checksum": "4ae1af384c3d34c1a9f98c17b42b3a9e",
     "grade": true,
     "grade_id": "student-download-data-answer",
     "locked": false,
     "points": 1,
     "schema_version": 3,
     "solution": true,
     "task": false
    }
   },
   "outputs": [
    {
     "name": "stdout",
     "output_type": "stream",
     "text": [
      "Downloading from https://ndownloader.figshare.com/files/17980802\n"
     ]
    },
    {
     "data": {
      "text/plain": [
       "'/Users/josephgarner/earth-analytics/data/earthpy-downloads/ca-fires-1992-2015-gt-100-acres.csv'"
      ]
     },
     "execution_count": 3,
     "metadata": {},
     "output_type": "execute_result"
    }
   ],
   "source": [
    "# YOUR CODE HERE\n",
    "ca_fires_url = \"https://ndownloader.figshare.com/files/17980802\"\n",
    "\n",
    "# Download CA fire data \n",
    "et.data.get_data(url=ca_fires_url)"
   ]
  },
  {
   "cell_type": "markdown",
   "metadata": {
    "deletable": false,
    "editable": false,
    "nbgrader": {
     "cell_type": "markdown",
     "checksum": "8c3bc1e353ce093c7e3a9c171a534c86",
     "grade": false,
     "grade_id": "question-set-wd",
     "locked": true,
     "schema_version": 3,
     "solution": false,
     "task": false
    }
   },
   "source": [
    "## Set Your Working Directory\n",
    "\n",
    "In the cell below, add code **after the line for `Your Code Here`**, replacing `raise NotImplementedError()` with your code, to set your working directory to **your `earth-analytics` directory in your home directory**.\n",
    "\n",
    "Be sure to use the appropriate functions that will allow your code to run successfully on any operating system."
   ]
  },
  {
   "cell_type": "code",
   "execution_count": 4,
   "metadata": {
    "deletable": false,
    "nbgrader": {
     "cell_type": "code",
     "checksum": "252bc5b508afd2f494e4cabaee471f6b",
     "grade": true,
     "grade_id": "student-set-wd-answer",
     "locked": false,
     "points": 1,
     "schema_version": 3,
     "solution": true,
     "task": false
    }
   },
   "outputs": [],
   "source": [
    "# YOUR CODE HERE\n",
    "\n",
    "# Set working directory to earth-analytics directory in home folder\n",
    "os.chdir(os.path.join(et.io.HOME, \n",
    "                      \"earth-analytics\"))"
   ]
  },
  {
   "cell_type": "markdown",
   "metadata": {
    "deletable": false,
    "editable": false,
    "nbgrader": {
     "cell_type": "markdown",
     "checksum": "775982040f61c61bbfb9f4a03d8a8264",
     "grade": false,
     "grade_id": "question-check-path",
     "locked": true,
     "schema_version": 3,
     "solution": false,
     "task": false
    }
   },
   "source": [
    "## Check Path to Data File\n",
    "\n",
    "In the cell below, add code **after the line for `Your Code Here`**, replacing `raise NotImplementedError()` with your code, to complete the following tasks:\n",
    "\n",
    "1. Define a **relative path to the file downloaded using earthpy**.\n",
    "    * Note: the path should be relative to your earth-analytics directory in your home directory.\n",
    "2. Check that the path exists (i.e. receive a response of True from the appropriate function).\n",
    "\n",
    "Be sure to use the appropriate functions that will allow your code to run successfully on any operating system."
   ]
  },
  {
   "cell_type": "code",
   "execution_count": 6,
   "metadata": {
    "deletable": false,
    "nbgrader": {
     "cell_type": "code",
     "checksum": "0a27643ce77baf7ed966c20e3fe8529f",
     "grade": true,
     "grade_id": "student-check-path-answer",
     "locked": false,
     "points": 2,
     "schema_version": 3,
     "solution": true,
     "task": false
    }
   },
   "outputs": [
    {
     "data": {
      "text/plain": [
       "True"
      ]
     },
     "execution_count": 6,
     "metadata": {},
     "output_type": "execute_result"
    }
   ],
   "source": [
    "# Create relative path to fire data\n",
    "ca_fire_csv = \"data/earthpy-downloads/ca-fires-1992-2015-gt-100-acres.csv\"\n",
    "\n",
    "# Verify relative path exists\n",
    "os.path.exists(ca_fire_csv)"
   ]
  },
  {
   "cell_type": "markdown",
   "metadata": {
    "deletable": false,
    "editable": false,
    "nbgrader": {
     "cell_type": "markdown",
     "checksum": "210660434763d6fdfaa58ca9eb90735f",
     "grade": false,
     "grade_id": "cell-460f50aa55521eaf",
     "locked": true,
     "schema_version": 3,
     "solution": false,
     "task": false
    }
   },
   "source": [
    "<img style=\"float: left;\" src=\"colored-bar.png\"/>"
   ]
  },
  {
   "cell_type": "markdown",
   "metadata": {
    "deletable": false,
    "editable": false,
    "nbgrader": {
     "cell_type": "markdown",
     "checksum": "32a9c7be6763a7cd11425e3c9b5ad6ff",
     "grade": false,
     "grade_id": "question-import-data",
     "locked": true,
     "schema_version": 3,
     "solution": false,
     "task": false
    }
   },
   "source": [
    "## Import Data Into Pandas Dataframes\n",
    "\n",
    "In the cell below, replace `raise NotImplementedError()` with code to complete the following tasks:\n",
    "1. Import the downloaded `.csv` file into a **pandas** dataframe using the **relative path** you defined in the previous cell. \n",
    "2. Print the **only first 5 records** of the dataframe using `.head()`. "
   ]
  },
  {
   "cell_type": "code",
   "execution_count": 8,
   "metadata": {
    "deletable": false,
    "nbgrader": {
     "cell_type": "code",
     "checksum": "6eb2c203f869eb16c0f9614d33bc7284",
     "grade": true,
     "grade_id": "student-import-data-answer",
     "locked": false,
     "points": 2,
     "schema_version": 3,
     "solution": true,
     "task": false
    }
   },
   "outputs": [
    {
     "data": {
      "text/html": [
       "<div>\n",
       "<style scoped>\n",
       "    .dataframe tbody tr th:only-of-type {\n",
       "        vertical-align: middle;\n",
       "    }\n",
       "\n",
       "    .dataframe tbody tr th {\n",
       "        vertical-align: top;\n",
       "    }\n",
       "\n",
       "    .dataframe thead th {\n",
       "        text-align: right;\n",
       "    }\n",
       "</style>\n",
       "<table border=\"1\" class=\"dataframe\">\n",
       "  <thead>\n",
       "    <tr style=\"text-align: right;\">\n",
       "      <th></th>\n",
       "      <th>fd_unq_id</th>\n",
       "      <th>source_reporting_unit_name</th>\n",
       "      <th>fire_name</th>\n",
       "      <th>year</th>\n",
       "      <th>month</th>\n",
       "      <th>month_num</th>\n",
       "      <th>cause</th>\n",
       "      <th>fire_size</th>\n",
       "      <th>fire_size_class</th>\n",
       "      <th>state</th>\n",
       "      <th>county</th>\n",
       "    </tr>\n",
       "  </thead>\n",
       "  <tbody>\n",
       "    <tr>\n",
       "      <th>0</th>\n",
       "      <td>1338131</td>\n",
       "      <td>Mendocino Unit</td>\n",
       "      <td>VANN</td>\n",
       "      <td>1992</td>\n",
       "      <td>February</td>\n",
       "      <td>2</td>\n",
       "      <td>Equipment Use</td>\n",
       "      <td>120.0</td>\n",
       "      <td>D</td>\n",
       "      <td>CA</td>\n",
       "      <td>NaN</td>\n",
       "    </tr>\n",
       "    <tr>\n",
       "      <th>1</th>\n",
       "      <td>216388</td>\n",
       "      <td>Yuma Field Office</td>\n",
       "      <td>WALTERS</td>\n",
       "      <td>1992</td>\n",
       "      <td>March</td>\n",
       "      <td>3</td>\n",
       "      <td>Debris Burning</td>\n",
       "      <td>1800.0</td>\n",
       "      <td>F</td>\n",
       "      <td>CA</td>\n",
       "      <td>NaN</td>\n",
       "    </tr>\n",
       "    <tr>\n",
       "      <th>2</th>\n",
       "      <td>218766</td>\n",
       "      <td>California Desert District</td>\n",
       "      <td>MESA</td>\n",
       "      <td>1992</td>\n",
       "      <td>April</td>\n",
       "      <td>4</td>\n",
       "      <td>Equipment Use</td>\n",
       "      <td>4200.0</td>\n",
       "      <td>F</td>\n",
       "      <td>CA</td>\n",
       "      <td>NaN</td>\n",
       "    </tr>\n",
       "    <tr>\n",
       "      <th>3</th>\n",
       "      <td>1373316</td>\n",
       "      <td>CDF - San Bernardino Unit</td>\n",
       "      <td>COLLINS</td>\n",
       "      <td>1992</td>\n",
       "      <td>April</td>\n",
       "      <td>4</td>\n",
       "      <td>Arson</td>\n",
       "      <td>125.0</td>\n",
       "      <td>D</td>\n",
       "      <td>CA</td>\n",
       "      <td>NaN</td>\n",
       "    </tr>\n",
       "    <tr>\n",
       "      <th>4</th>\n",
       "      <td>1373321</td>\n",
       "      <td>CDF - San Bernardino Unit</td>\n",
       "      <td>COVINGTON</td>\n",
       "      <td>1992</td>\n",
       "      <td>April</td>\n",
       "      <td>4</td>\n",
       "      <td>Arson</td>\n",
       "      <td>104.0</td>\n",
       "      <td>D</td>\n",
       "      <td>CA</td>\n",
       "      <td>NaN</td>\n",
       "    </tr>\n",
       "  </tbody>\n",
       "</table>\n",
       "</div>"
      ],
      "text/plain": [
       "   fd_unq_id  source_reporting_unit_name                  fire_name  year  \\\n",
       "0    1338131              Mendocino Unit  VANN                       1992   \n",
       "1     216388           Yuma Field Office                    WALTERS  1992   \n",
       "2     218766  California Desert District                       MESA  1992   \n",
       "3    1373316   CDF - San Bernardino Unit  COLLINS                    1992   \n",
       "4    1373321   CDF - San Bernardino Unit  COVINGTON                  1992   \n",
       "\n",
       "      month  month_num           cause  fire_size fire_size_class state county  \n",
       "0  February          2   Equipment Use      120.0               D    CA    NaN  \n",
       "1     March          3  Debris Burning     1800.0               F    CA    NaN  \n",
       "2     April          4   Equipment Use     4200.0               F    CA    NaN  \n",
       "3     April          4           Arson      125.0               D    CA    NaN  \n",
       "4     April          4           Arson      104.0               D    CA    NaN  "
      ]
     },
     "execution_count": 8,
     "metadata": {},
     "output_type": "execute_result"
    }
   ],
   "source": [
    "# Create pandas df from fire data\n",
    "ca_fires_df = pd.read_csv(ca_fire_csv)\n",
    "\n",
    "ca_fires_df.head()\n",
    "\n"
   ]
  },
  {
   "cell_type": "markdown",
   "metadata": {
    "deletable": false,
    "editable": false,
    "nbgrader": {
     "cell_type": "markdown",
     "checksum": "9341df9b44a2ad3cc94773c51db20745",
     "grade": false,
     "grade_id": "cell-97cb67dc45eae5cc",
     "locked": true,
     "schema_version": 3,
     "solution": false,
     "task": false
    }
   },
   "source": [
    "In the cell below, add the dataframe object that you created above.\n",
    "Run the cell so that the first 5 and the last 5 rows of the data frame \n",
    "render below the cell.\n",
    "\n",
    "Important: DO NOT USE `print()`, simply add the variable name below and\n",
    "run the cell!"
   ]
  },
  {
   "cell_type": "code",
   "execution_count": 53,
   "metadata": {
    "deletable": false,
    "nbgrader": {
     "cell_type": "code",
     "checksum": "19b6cb71ffbca3c1d19515c12fb87742",
     "grade": false,
     "grade_id": "cell-1a57abfe266e7643",
     "locked": false,
     "schema_version": 3,
     "solution": true,
     "task": false
    }
   },
   "outputs": [
    {
     "data": {
      "text/html": [
       "<div>\n",
       "<style scoped>\n",
       "    .dataframe tbody tr th:only-of-type {\n",
       "        vertical-align: middle;\n",
       "    }\n",
       "\n",
       "    .dataframe tbody tr th {\n",
       "        vertical-align: top;\n",
       "    }\n",
       "\n",
       "    .dataframe thead th {\n",
       "        text-align: right;\n",
       "    }\n",
       "</style>\n",
       "<table border=\"1\" class=\"dataframe\">\n",
       "  <thead>\n",
       "    <tr style=\"text-align: right;\">\n",
       "      <th></th>\n",
       "      <th>fd_unq_id</th>\n",
       "      <th>source_reporting_unit_name</th>\n",
       "      <th>fire_name</th>\n",
       "      <th>year</th>\n",
       "      <th>month</th>\n",
       "      <th>month_num</th>\n",
       "      <th>cause</th>\n",
       "      <th>fire_size</th>\n",
       "      <th>fire_size_class</th>\n",
       "      <th>state</th>\n",
       "      <th>county</th>\n",
       "      <th>fire_size_hectares</th>\n",
       "    </tr>\n",
       "  </thead>\n",
       "  <tbody>\n",
       "    <tr>\n",
       "      <th>0</th>\n",
       "      <td>1338131</td>\n",
       "      <td>Mendocino Unit</td>\n",
       "      <td>VANN</td>\n",
       "      <td>1992</td>\n",
       "      <td>February</td>\n",
       "      <td>2</td>\n",
       "      <td>Equipment Use</td>\n",
       "      <td>120.0</td>\n",
       "      <td>D</td>\n",
       "      <td>CA</td>\n",
       "      <td>NaN</td>\n",
       "      <td>48.562352</td>\n",
       "    </tr>\n",
       "    <tr>\n",
       "      <th>1</th>\n",
       "      <td>216388</td>\n",
       "      <td>Yuma Field Office</td>\n",
       "      <td>WALTERS</td>\n",
       "      <td>1992</td>\n",
       "      <td>March</td>\n",
       "      <td>3</td>\n",
       "      <td>Debris Burning</td>\n",
       "      <td>1800.0</td>\n",
       "      <td>F</td>\n",
       "      <td>CA</td>\n",
       "      <td>NaN</td>\n",
       "      <td>728.435281</td>\n",
       "    </tr>\n",
       "    <tr>\n",
       "      <th>2</th>\n",
       "      <td>218766</td>\n",
       "      <td>California Desert District</td>\n",
       "      <td>MESA</td>\n",
       "      <td>1992</td>\n",
       "      <td>April</td>\n",
       "      <td>4</td>\n",
       "      <td>Equipment Use</td>\n",
       "      <td>4200.0</td>\n",
       "      <td>F</td>\n",
       "      <td>CA</td>\n",
       "      <td>NaN</td>\n",
       "      <td>1699.682321</td>\n",
       "    </tr>\n",
       "    <tr>\n",
       "      <th>3</th>\n",
       "      <td>1373316</td>\n",
       "      <td>CDF - San Bernardino Unit</td>\n",
       "      <td>COLLINS</td>\n",
       "      <td>1992</td>\n",
       "      <td>April</td>\n",
       "      <td>4</td>\n",
       "      <td>Arson</td>\n",
       "      <td>125.0</td>\n",
       "      <td>D</td>\n",
       "      <td>CA</td>\n",
       "      <td>NaN</td>\n",
       "      <td>50.585783</td>\n",
       "    </tr>\n",
       "    <tr>\n",
       "      <th>4</th>\n",
       "      <td>1373321</td>\n",
       "      <td>CDF - San Bernardino Unit</td>\n",
       "      <td>COVINGTON</td>\n",
       "      <td>1992</td>\n",
       "      <td>April</td>\n",
       "      <td>4</td>\n",
       "      <td>Arson</td>\n",
       "      <td>104.0</td>\n",
       "      <td>D</td>\n",
       "      <td>CA</td>\n",
       "      <td>NaN</td>\n",
       "      <td>42.087372</td>\n",
       "    </tr>\n",
       "    <tr>\n",
       "      <th>4096</th>\n",
       "      <td>300308392</td>\n",
       "      <td>Butte Unit</td>\n",
       "      <td>RICHVALE</td>\n",
       "      <td>2015</td>\n",
       "      <td>October</td>\n",
       "      <td>10</td>\n",
       "      <td>Equipment Use</td>\n",
       "      <td>250.0</td>\n",
       "      <td>D</td>\n",
       "      <td>CA</td>\n",
       "      <td>Butte</td>\n",
       "      <td>101.171567</td>\n",
       "    </tr>\n",
       "    <tr>\n",
       "      <th>4097</th>\n",
       "      <td>300308084</td>\n",
       "      <td>CDF - San Benito-Monterey Unit</td>\n",
       "      <td>CIENEGA</td>\n",
       "      <td>2015</td>\n",
       "      <td>October</td>\n",
       "      <td>10</td>\n",
       "      <td>Miscellaneous</td>\n",
       "      <td>690.0</td>\n",
       "      <td>E</td>\n",
       "      <td>CA</td>\n",
       "      <td>San Benito</td>\n",
       "      <td>279.233524</td>\n",
       "    </tr>\n",
       "    <tr>\n",
       "      <th>4098</th>\n",
       "      <td>300209443</td>\n",
       "      <td>Sequoia And Kings Canyon National Parks</td>\n",
       "      <td>BURNT</td>\n",
       "      <td>2015</td>\n",
       "      <td>October</td>\n",
       "      <td>10</td>\n",
       "      <td>Lightning</td>\n",
       "      <td>161.0</td>\n",
       "      <td>D</td>\n",
       "      <td>CA</td>\n",
       "      <td>NaN</td>\n",
       "      <td>65.154489</td>\n",
       "    </tr>\n",
       "    <tr>\n",
       "      <th>4099</th>\n",
       "      <td>300293910</td>\n",
       "      <td>Colorado River Agency</td>\n",
       "      <td>HIGHWAY</td>\n",
       "      <td>2015</td>\n",
       "      <td>November</td>\n",
       "      <td>11</td>\n",
       "      <td>Missing/Undefined</td>\n",
       "      <td>323.0</td>\n",
       "      <td>E</td>\n",
       "      <td>CA</td>\n",
       "      <td>Riverside</td>\n",
       "      <td>130.713664</td>\n",
       "    </tr>\n",
       "    <tr>\n",
       "      <th>4100</th>\n",
       "      <td>300293894</td>\n",
       "      <td>Ventura County Fire Department</td>\n",
       "      <td>SOLIMAR</td>\n",
       "      <td>2015</td>\n",
       "      <td>December</td>\n",
       "      <td>12</td>\n",
       "      <td>Missing/Undefined</td>\n",
       "      <td>1288.0</td>\n",
       "      <td>F</td>\n",
       "      <td>CA</td>\n",
       "      <td>Ventura</td>\n",
       "      <td>521.235912</td>\n",
       "    </tr>\n",
       "  </tbody>\n",
       "</table>\n",
       "</div>"
      ],
      "text/plain": [
       "      fd_unq_id               source_reporting_unit_name  \\\n",
       "0       1338131                           Mendocino Unit   \n",
       "1        216388                        Yuma Field Office   \n",
       "2        218766               California Desert District   \n",
       "3       1373316                CDF - San Bernardino Unit   \n",
       "4       1373321                CDF - San Bernardino Unit   \n",
       "4096  300308392                               Butte Unit   \n",
       "4097  300308084           CDF - San Benito-Monterey Unit   \n",
       "4098  300209443  Sequoia And Kings Canyon National Parks   \n",
       "4099  300293910                    Colorado River Agency   \n",
       "4100  300293894           Ventura County Fire Department   \n",
       "\n",
       "                      fire_name  year     month  month_num              cause  \\\n",
       "0     VANN                       1992  February          2      Equipment Use   \n",
       "1                       WALTERS  1992     March          3     Debris Burning   \n",
       "2                          MESA  1992     April          4      Equipment Use   \n",
       "3     COLLINS                    1992     April          4              Arson   \n",
       "4     COVINGTON                  1992     April          4              Arson   \n",
       "4096                   RICHVALE  2015   October         10      Equipment Use   \n",
       "4097                    CIENEGA  2015   October         10      Miscellaneous   \n",
       "4098                      BURNT  2015   October         10          Lightning   \n",
       "4099                    HIGHWAY  2015  November         11  Missing/Undefined   \n",
       "4100                    SOLIMAR  2015  December         12  Missing/Undefined   \n",
       "\n",
       "      fire_size fire_size_class state      county  fire_size_hectares  \n",
       "0         120.0               D    CA         NaN           48.562352  \n",
       "1        1800.0               F    CA         NaN          728.435281  \n",
       "2        4200.0               F    CA         NaN         1699.682321  \n",
       "3         125.0               D    CA         NaN           50.585783  \n",
       "4         104.0               D    CA         NaN           42.087372  \n",
       "4096      250.0               D    CA       Butte          101.171567  \n",
       "4097      690.0               E    CA  San Benito          279.233524  \n",
       "4098      161.0               D    CA         NaN           65.154489  \n",
       "4099      323.0               E    CA   Riverside          130.713664  \n",
       "4100     1288.0               F    CA     Ventura          521.235912  "
      ]
     },
     "execution_count": 53,
     "metadata": {},
     "output_type": "execute_result"
    }
   ],
   "source": [
    "# YOUR CODE HERE\n",
    "sliced_df = ca_fires_df.head(5)\n",
    "sliced_df = sliced_df.append(ca_fires_df.tail(5))\n",
    "sliced_df"
   ]
  },
  {
   "cell_type": "code",
   "execution_count": 11,
   "metadata": {
    "deletable": false,
    "editable": false,
    "nbgrader": {
     "cell_type": "code",
     "checksum": "2a691dff0470cd2a1fd3613d859c2c3e",
     "grade": true,
     "grade_id": "cell-5093525746a3603b",
     "locked": true,
     "points": 4,
     "schema_version": 3,
     "solution": false,
     "task": false
    }
   },
   "outputs": [
    {
     "name": "stdout",
     "output_type": "stream",
     "text": [
      "✅ Great job! Your data were correctly Data read in as a DataFrame, well done!\n",
      "\n",
      " ➡ You recieved 4 points out of 4\n"
     ]
    },
    {
     "data": {
      "text/plain": [
       "4"
      ]
     },
     "execution_count": 11,
     "metadata": {},
     "output_type": "execute_result"
    }
   ],
   "source": [
    "# DO NOT MODIFY THIS CELL\n",
    "student_fire_df = _\n",
    "\n",
    "ca_fires_dataframe_pts = 0\n",
    "\n",
    "# Tests that the datset is a pandas dataset\n",
    "if type(student_fire_df) == pd.DataFrame:\n",
    "    print(\"\\u2705 Great job! Your data were correctly Data read in as a DataFrame, well done!\")\n",
    "    ca_fires_dataframe_pts += 4\n",
    "else:\n",
    "    print(\n",
    "        \"\\u274C Oops. Your data is not a Dataframe. Make sure to run the cell directly \"\n",
    "        + \"above this one immediately before running these tests.\"\n",
    "    )\n",
    "    \n",
    "print(\"\\n \\u27A1 You recieved {} points out of 4\".format(ca_fires_dataframe_pts))\n",
    "\n",
    "ca_fires_dataframe_pts"
   ]
  },
  {
   "cell_type": "code",
   "execution_count": null,
   "metadata": {
    "deletable": false,
    "editable": false,
    "nbgrader": {
     "cell_type": "code",
     "checksum": "767b38b42c905caca9778b4086779c98",
     "grade": true,
     "grade_id": "cell-a7ef4c7ba3524e96",
     "locked": true,
     "points": 4,
     "schema_version": 3,
     "solution": false,
     "task": false
    }
   },
   "outputs": [],
   "source": [
    "# DO NOT MODIFY THIS CELL!"
   ]
  },
  {
   "cell_type": "markdown",
   "metadata": {
    "deletable": false,
    "editable": false,
    "nbgrader": {
     "cell_type": "markdown",
     "checksum": "32008cfed4bbab07dbc9699a19a1241e",
     "grade": false,
     "grade_id": "cell-67b1f114a2c07cc8",
     "locked": true,
     "schema_version": 3,
     "solution": false,
     "task": false
    }
   },
   "source": [
    "<img style=\"float: left;\" src=\"colored-bar.png\"/>"
   ]
  },
  {
   "cell_type": "markdown",
   "metadata": {
    "deletable": false,
    "editable": false,
    "nbgrader": {
     "cell_type": "markdown",
     "checksum": "f81acd97bb9ca0980df5e0fac20a621a",
     "grade": false,
     "grade_id": "question-info-pd",
     "locked": true,
     "schema_version": 3,
     "solution": false,
     "task": false
    }
   },
   "source": [
    "## Get Description Of Your Data's Structure\n",
    "\n",
    "In the cell below, add code **after the line for `Your Code Here`**, replacing `raise NotImplementedError()` with your code, to complete the following task:\n",
    "\n",
    "* Use the appropriate code to display general information (in particular, the number of rows and columns, column names and data types) about the dataset.\n",
    "    * Choose the code that most efficiently (i.e. with the least amount of code) accomplishes this goal. "
   ]
  },
  {
   "cell_type": "code",
   "execution_count": 13,
   "metadata": {
    "deletable": false,
    "nbgrader": {
     "cell_type": "code",
     "checksum": "340165146e6e0fd81335eb94310d4335",
     "grade": true,
     "grade_id": "student-info-pd-answer",
     "locked": false,
     "points": 2,
     "schema_version": 3,
     "solution": true,
     "task": false
    }
   },
   "outputs": [
    {
     "name": "stdout",
     "output_type": "stream",
     "text": [
      "<class 'pandas.core.frame.DataFrame'>\n",
      "RangeIndex: 4101 entries, 0 to 4100\n",
      "Data columns (total 11 columns):\n",
      " #   Column                      Non-Null Count  Dtype  \n",
      "---  ------                      --------------  -----  \n",
      " 0   fd_unq_id                   4101 non-null   int64  \n",
      " 1   source_reporting_unit_name  4101 non-null   object \n",
      " 2   fire_name                   4016 non-null   object \n",
      " 3   year                        4101 non-null   int64  \n",
      " 4   month                       4101 non-null   object \n",
      " 5   month_num                   4101 non-null   int64  \n",
      " 6   cause                       4101 non-null   object \n",
      " 7   fire_size                   4101 non-null   float64\n",
      " 8   fire_size_class             4101 non-null   object \n",
      " 9   state                       4101 non-null   object \n",
      " 10  county                      1242 non-null   object \n",
      "dtypes: float64(1), int64(3), object(7)\n",
      "memory usage: 352.6+ KB\n"
     ]
    }
   ],
   "source": [
    "# YOUR CODE HERE\n",
    "ca_fires_df.info()"
   ]
  },
  {
   "cell_type": "markdown",
   "metadata": {
    "deletable": false,
    "editable": false,
    "nbgrader": {
     "cell_type": "markdown",
     "checksum": "90afbecd3da8f174d703a9d5b993ce31",
     "grade": false,
     "grade_id": "question-run-calc-pandas",
     "locked": true,
     "schema_version": 3,
     "solution": false,
     "task": false
    }
   },
   "source": [
    "## Create a Column for Fire Size in Hectares\n",
    "\n",
    "In the cell below complete the following tasks:\n",
    "\n",
    "1. Create a new column in your dataframe that contains fire_size in HECTARES instead of acres. Name the column **fire_size_hectares** (HINT: hectares is a standard international unit that represents 10,000 square meters).\n",
    "Notes: \n",
    "    * 1 hectare = 2.47105 acres \n",
    "    * Hint: Think about which mathematical operation (e.g. `+`, `*`) you need to run this calculation.\n",
    "2. At the end of the cell, add the data frame object so the first 5 and last 5 rows render\n",
    "below the cell (DO NOT USE PRINT)\n"
   ]
  },
  {
   "cell_type": "code",
   "execution_count": 33,
   "metadata": {
    "deletable": false,
    "nbgrader": {
     "cell_type": "code",
     "checksum": "d64d6450a9c8313fb64c77b33b04647c",
     "grade": false,
     "grade_id": "student-run-calc-pandas-answer",
     "locked": false,
     "schema_version": 3,
     "solution": true,
     "task": false
    }
   },
   "outputs": [
    {
     "data": {
      "text/html": [
       "<div>\n",
       "<style scoped>\n",
       "    .dataframe tbody tr th:only-of-type {\n",
       "        vertical-align: middle;\n",
       "    }\n",
       "\n",
       "    .dataframe tbody tr th {\n",
       "        vertical-align: top;\n",
       "    }\n",
       "\n",
       "    .dataframe thead th {\n",
       "        text-align: right;\n",
       "    }\n",
       "</style>\n",
       "<table border=\"1\" class=\"dataframe\">\n",
       "  <thead>\n",
       "    <tr style=\"text-align: right;\">\n",
       "      <th></th>\n",
       "      <th>fd_unq_id</th>\n",
       "      <th>source_reporting_unit_name</th>\n",
       "      <th>fire_name</th>\n",
       "      <th>year</th>\n",
       "      <th>month</th>\n",
       "      <th>month_num</th>\n",
       "      <th>cause</th>\n",
       "      <th>fire_size</th>\n",
       "      <th>fire_size_class</th>\n",
       "      <th>state</th>\n",
       "      <th>county</th>\n",
       "      <th>fire_size_hectares</th>\n",
       "    </tr>\n",
       "  </thead>\n",
       "  <tbody>\n",
       "    <tr>\n",
       "      <th>4096</th>\n",
       "      <td>300308392</td>\n",
       "      <td>Butte Unit</td>\n",
       "      <td>RICHVALE</td>\n",
       "      <td>2015</td>\n",
       "      <td>October</td>\n",
       "      <td>10</td>\n",
       "      <td>Equipment Use</td>\n",
       "      <td>250.0</td>\n",
       "      <td>D</td>\n",
       "      <td>CA</td>\n",
       "      <td>Butte</td>\n",
       "      <td>101.171567</td>\n",
       "    </tr>\n",
       "    <tr>\n",
       "      <th>4097</th>\n",
       "      <td>300308084</td>\n",
       "      <td>CDF - San Benito-Monterey Unit</td>\n",
       "      <td>CIENEGA</td>\n",
       "      <td>2015</td>\n",
       "      <td>October</td>\n",
       "      <td>10</td>\n",
       "      <td>Miscellaneous</td>\n",
       "      <td>690.0</td>\n",
       "      <td>E</td>\n",
       "      <td>CA</td>\n",
       "      <td>San Benito</td>\n",
       "      <td>279.233524</td>\n",
       "    </tr>\n",
       "    <tr>\n",
       "      <th>4098</th>\n",
       "      <td>300209443</td>\n",
       "      <td>Sequoia And Kings Canyon National Parks</td>\n",
       "      <td>BURNT</td>\n",
       "      <td>2015</td>\n",
       "      <td>October</td>\n",
       "      <td>10</td>\n",
       "      <td>Lightning</td>\n",
       "      <td>161.0</td>\n",
       "      <td>D</td>\n",
       "      <td>CA</td>\n",
       "      <td>NaN</td>\n",
       "      <td>65.154489</td>\n",
       "    </tr>\n",
       "    <tr>\n",
       "      <th>4099</th>\n",
       "      <td>300293910</td>\n",
       "      <td>Colorado River Agency</td>\n",
       "      <td>HIGHWAY</td>\n",
       "      <td>2015</td>\n",
       "      <td>November</td>\n",
       "      <td>11</td>\n",
       "      <td>Missing/Undefined</td>\n",
       "      <td>323.0</td>\n",
       "      <td>E</td>\n",
       "      <td>CA</td>\n",
       "      <td>Riverside</td>\n",
       "      <td>130.713664</td>\n",
       "    </tr>\n",
       "    <tr>\n",
       "      <th>4100</th>\n",
       "      <td>300293894</td>\n",
       "      <td>Ventura County Fire Department</td>\n",
       "      <td>SOLIMAR</td>\n",
       "      <td>2015</td>\n",
       "      <td>December</td>\n",
       "      <td>12</td>\n",
       "      <td>Missing/Undefined</td>\n",
       "      <td>1288.0</td>\n",
       "      <td>F</td>\n",
       "      <td>CA</td>\n",
       "      <td>Ventura</td>\n",
       "      <td>521.235912</td>\n",
       "    </tr>\n",
       "  </tbody>\n",
       "</table>\n",
       "</div>"
      ],
      "text/plain": [
       "      fd_unq_id               source_reporting_unit_name fire_name  year  \\\n",
       "4096  300308392                               Butte Unit  RICHVALE  2015   \n",
       "4097  300308084           CDF - San Benito-Monterey Unit   CIENEGA  2015   \n",
       "4098  300209443  Sequoia And Kings Canyon National Parks     BURNT  2015   \n",
       "4099  300293910                    Colorado River Agency   HIGHWAY  2015   \n",
       "4100  300293894           Ventura County Fire Department   SOLIMAR  2015   \n",
       "\n",
       "         month  month_num              cause  fire_size fire_size_class state  \\\n",
       "4096   October         10      Equipment Use      250.0               D    CA   \n",
       "4097   October         10      Miscellaneous      690.0               E    CA   \n",
       "4098   October         10          Lightning      161.0               D    CA   \n",
       "4099  November         11  Missing/Undefined      323.0               E    CA   \n",
       "4100  December         12  Missing/Undefined     1288.0               F    CA   \n",
       "\n",
       "          county  fire_size_hectares  \n",
       "4096       Butte          101.171567  \n",
       "4097  San Benito          279.233524  \n",
       "4098         NaN           65.154489  \n",
       "4099   Riverside          130.713664  \n",
       "4100     Ventura          521.235912  "
      ]
     },
     "execution_count": 33,
     "metadata": {},
     "output_type": "execute_result"
    }
   ],
   "source": [
    "# Add new column converting acres to hectares\n",
    "ca_fires_df[\"fire_size_hectares\"] = ca_fires_df[\"fire_size\"] / 2.47105\n",
    "\n",
    "ca_fires_df.head(), \n",
    "ca_fires_df.tail()"
   ]
  },
  {
   "cell_type": "code",
   "execution_count": 22,
   "metadata": {
    "deletable": false,
    "editable": false,
    "nbgrader": {
     "cell_type": "code",
     "checksum": "79df679184666523b77a210302904852",
     "grade": true,
     "grade_id": "cell-56fbc05cc3981967",
     "locked": true,
     "points": 2,
     "schema_version": 3,
     "solution": false,
     "task": false
    }
   },
   "outputs": [
    {
     "name": "stdout",
     "output_type": "stream",
     "text": [
      "✅ Great - You added a fire_size_hectares column to your dataframe!\n",
      "\n",
      " ➡ You recieved 2 out of 4 points\n"
     ]
    },
    {
     "data": {
      "text/plain": [
       "2"
      ]
     },
     "execution_count": 22,
     "metadata": {},
     "output_type": "execute_result"
    }
   ],
   "source": [
    "# DO NOT MODIFY THIS CELL\n",
    "\n",
    "modified_student_data_tail = _\n",
    "\n",
    "modified_student_data_tail_points = 0\n",
    "\n",
    "try: \n",
    "    modified_student_data_tail.fire_size_hectares\n",
    "    print(\"\\u2705 Great - You added a fire_size_hectares column to your dataframe!\")\n",
    "    modified_student_data_tail_points += 2\n",
    "except: \n",
    "    print(\"\\u274C Oops - please does a fire_size_hectares column exist in your data frame?\")\n",
    "print(\"\\n \\u27A1 You recieved {} out of 4 points\".format(modified_student_data_tail_points))\n",
    "    \n",
    "modified_student_data_tail_points"
   ]
  },
  {
   "cell_type": "code",
   "execution_count": null,
   "metadata": {
    "deletable": false,
    "editable": false,
    "nbgrader": {
     "cell_type": "code",
     "checksum": "7ac76c7794abb8bd10a0ebbce56596e5",
     "grade": true,
     "grade_id": "cell-1aabe8d19ce65194",
     "locked": true,
     "points": 5,
     "schema_version": 3,
     "solution": false,
     "task": false
    }
   },
   "outputs": [],
   "source": [
    "# DO NOT MODIFY THIS CELL\n"
   ]
  },
  {
   "cell_type": "markdown",
   "metadata": {
    "deletable": false,
    "editable": false,
    "nbgrader": {
     "cell_type": "markdown",
     "checksum": "6f6b47f2fb068aeb4a87e44e6eb40cc1",
     "grade": false,
     "grade_id": "question-summarize-pd",
     "locked": true,
     "schema_version": 3,
     "solution": false,
     "task": false
    }
   },
   "source": [
    "## Summarize Fire Size Across Entire Dataset\n",
    "\n",
    "In the cell below, add code **after the line for `Your Code Here`**, replacing `raise NotImplementedError()` with your code, to complete the following task:\n",
    "\n",
    "* Display the mean, minimum, and maximum values for fire size across the entire dataset.\n",
    "    * Choose the code that most efficiently (i.e. with the least amount of code) accomplishes this goal. "
   ]
  },
  {
   "cell_type": "code",
   "execution_count": 34,
   "metadata": {
    "deletable": false,
    "nbgrader": {
     "cell_type": "code",
     "checksum": "08784c01d0d875dcfb08d479e97e6bf0",
     "grade": true,
     "grade_id": "student-summarize-pd-answer",
     "locked": false,
     "points": 5,
     "schema_version": 3,
     "solution": true,
     "task": false
    }
   },
   "outputs": [
    {
     "data": {
      "text/html": [
       "<div>\n",
       "<style scoped>\n",
       "    .dataframe tbody tr th:only-of-type {\n",
       "        vertical-align: middle;\n",
       "    }\n",
       "\n",
       "    .dataframe tbody tr th {\n",
       "        vertical-align: top;\n",
       "    }\n",
       "\n",
       "    .dataframe thead th {\n",
       "        text-align: right;\n",
       "    }\n",
       "</style>\n",
       "<table border=\"1\" class=\"dataframe\">\n",
       "  <thead>\n",
       "    <tr style=\"text-align: right;\">\n",
       "      <th></th>\n",
       "      <th>fd_unq_id</th>\n",
       "      <th>year</th>\n",
       "      <th>month_num</th>\n",
       "      <th>fire_size</th>\n",
       "      <th>fire_size_hectares</th>\n",
       "    </tr>\n",
       "  </thead>\n",
       "  <tbody>\n",
       "    <tr>\n",
       "      <th>count</th>\n",
       "      <td>4.101000e+03</td>\n",
       "      <td>4101.000000</td>\n",
       "      <td>4101.000000</td>\n",
       "      <td>4101.000000</td>\n",
       "      <td>4101.000000</td>\n",
       "    </tr>\n",
       "    <tr>\n",
       "      <th>mean</th>\n",
       "      <td>3.780067e+07</td>\n",
       "      <td>2002.347476</td>\n",
       "      <td>7.264570</td>\n",
       "      <td>2995.314133</td>\n",
       "      <td>1212.162495</td>\n",
       "    </tr>\n",
       "    <tr>\n",
       "      <th>std</th>\n",
       "      <td>8.933627e+07</td>\n",
       "      <td>6.751149</td>\n",
       "      <td>1.706797</td>\n",
       "      <td>13481.045403</td>\n",
       "      <td>5455.593939</td>\n",
       "    </tr>\n",
       "    <tr>\n",
       "      <th>min</th>\n",
       "      <td>1.700000e+01</td>\n",
       "      <td>1992.000000</td>\n",
       "      <td>1.000000</td>\n",
       "      <td>100.100000</td>\n",
       "      <td>40.509095</td>\n",
       "    </tr>\n",
       "    <tr>\n",
       "      <th>25%</th>\n",
       "      <td>2.171770e+05</td>\n",
       "      <td>1996.000000</td>\n",
       "      <td>6.000000</td>\n",
       "      <td>180.000000</td>\n",
       "      <td>72.843528</td>\n",
       "    </tr>\n",
       "    <tr>\n",
       "      <th>50%</th>\n",
       "      <td>1.305460e+06</td>\n",
       "      <td>2002.000000</td>\n",
       "      <td>7.000000</td>\n",
       "      <td>354.000000</td>\n",
       "      <td>143.258939</td>\n",
       "    </tr>\n",
       "    <tr>\n",
       "      <th>75%</th>\n",
       "      <td>1.374481e+06</td>\n",
       "      <td>2008.000000</td>\n",
       "      <td>8.000000</td>\n",
       "      <td>1155.000000</td>\n",
       "      <td>467.412638</td>\n",
       "    </tr>\n",
       "    <tr>\n",
       "      <th>max</th>\n",
       "      <td>3.003476e+08</td>\n",
       "      <td>2015.000000</td>\n",
       "      <td>12.000000</td>\n",
       "      <td>315578.800000</td>\n",
       "      <td>127710.406507</td>\n",
       "    </tr>\n",
       "  </tbody>\n",
       "</table>\n",
       "</div>"
      ],
      "text/plain": [
       "          fd_unq_id         year    month_num      fire_size  \\\n",
       "count  4.101000e+03  4101.000000  4101.000000    4101.000000   \n",
       "mean   3.780067e+07  2002.347476     7.264570    2995.314133   \n",
       "std    8.933627e+07     6.751149     1.706797   13481.045403   \n",
       "min    1.700000e+01  1992.000000     1.000000     100.100000   \n",
       "25%    2.171770e+05  1996.000000     6.000000     180.000000   \n",
       "50%    1.305460e+06  2002.000000     7.000000     354.000000   \n",
       "75%    1.374481e+06  2008.000000     8.000000    1155.000000   \n",
       "max    3.003476e+08  2015.000000    12.000000  315578.800000   \n",
       "\n",
       "       fire_size_hectares  \n",
       "count         4101.000000  \n",
       "mean          1212.162495  \n",
       "std           5455.593939  \n",
       "min             40.509095  \n",
       "25%             72.843528  \n",
       "50%            143.258939  \n",
       "75%            467.412638  \n",
       "max         127710.406507  "
      ]
     },
     "execution_count": 34,
     "metadata": {},
     "output_type": "execute_result"
    }
   ],
   "source": [
    "# YOUR CODE HERE\n",
    "ca_fires_df.describe()"
   ]
  },
  {
   "cell_type": "markdown",
   "metadata": {
    "deletable": false,
    "editable": false,
    "nbgrader": {
     "cell_type": "markdown",
     "checksum": "cce7217fa197c4f71886a421c799384d",
     "grade": false,
     "grade_id": "question-groupby",
     "locked": true,
     "schema_version": 3,
     "solution": false,
     "task": false
    }
   },
   "source": [
    "## Calculate Maximum Fire Size Per Year\n",
    "\n",
    "In the cell below, add code **after the line for `Your Code Here`**, replacing `raise NotImplementedError()` with your code, to complete the following tasks:\n",
    "\n",
    "1. Calculate the maximum fire size in hectares for each year in the dataset.\n",
    "2. Save the output to a new dataframe.\n",
    "    * Choose the code that most efficiently (i.e. with the least amount of code) accomplishes this goal. \n",
    "3. IMPORTANT: call the dataframe in the last line of the cell below to ensure that the dataframe that you create prints below. Do not use the print statement! "
   ]
  },
  {
   "cell_type": "code",
   "execution_count": 35,
   "metadata": {
    "deletable": false,
    "nbgrader": {
     "cell_type": "code",
     "checksum": "b7b970135e17aa1b44e1df3b7a81ec79",
     "grade": false,
     "grade_id": "student-groupby-answer",
     "locked": false,
     "schema_version": 3,
     "solution": true,
     "task": false
    }
   },
   "outputs": [
    {
     "data": {
      "text/html": [
       "<div>\n",
       "<style scoped>\n",
       "    .dataframe tbody tr th:only-of-type {\n",
       "        vertical-align: middle;\n",
       "    }\n",
       "\n",
       "    .dataframe tbody tr th {\n",
       "        vertical-align: top;\n",
       "    }\n",
       "\n",
       "    .dataframe thead th {\n",
       "        text-align: right;\n",
       "    }\n",
       "</style>\n",
       "<table border=\"1\" class=\"dataframe\">\n",
       "  <thead>\n",
       "    <tr style=\"text-align: right;\">\n",
       "      <th></th>\n",
       "      <th>fire_size_hectares</th>\n",
       "    </tr>\n",
       "    <tr>\n",
       "      <th>year</th>\n",
       "      <th></th>\n",
       "    </tr>\n",
       "  </thead>\n",
       "  <tbody>\n",
       "    <tr>\n",
       "      <th>1992</th>\n",
       "      <td>25899.921086</td>\n",
       "    </tr>\n",
       "    <tr>\n",
       "      <th>1993</th>\n",
       "      <td>17482.851419</td>\n",
       "    </tr>\n",
       "    <tr>\n",
       "      <th>1994</th>\n",
       "      <td>19769.328828</td>\n",
       "    </tr>\n",
       "    <tr>\n",
       "      <th>1995</th>\n",
       "      <td>9491.916392</td>\n",
       "    </tr>\n",
       "    <tr>\n",
       "      <th>1996</th>\n",
       "      <td>43167.074725</td>\n",
       "    </tr>\n",
       "    <tr>\n",
       "      <th>1997</th>\n",
       "      <td>20027.923352</td>\n",
       "    </tr>\n",
       "    <tr>\n",
       "      <th>1998</th>\n",
       "      <td>11397.584023</td>\n",
       "    </tr>\n",
       "    <tr>\n",
       "      <th>1999</th>\n",
       "      <td>50544.505372</td>\n",
       "    </tr>\n",
       "    <tr>\n",
       "      <th>2000</th>\n",
       "      <td>30351.470023</td>\n",
       "    </tr>\n",
       "    <tr>\n",
       "      <th>2001</th>\n",
       "      <td>27434.491411</td>\n",
       "    </tr>\n",
       "    <tr>\n",
       "      <th>2002</th>\n",
       "      <td>60984.601688</td>\n",
       "    </tr>\n",
       "    <tr>\n",
       "      <th>2003</th>\n",
       "      <td>113336.031242</td>\n",
       "    </tr>\n",
       "    <tr>\n",
       "      <th>2004</th>\n",
       "      <td>15838.611117</td>\n",
       "    </tr>\n",
       "    <tr>\n",
       "      <th>2005</th>\n",
       "      <td>25671.678032</td>\n",
       "    </tr>\n",
       "    <tr>\n",
       "      <th>2006</th>\n",
       "      <td>65843.265009</td>\n",
       "    </tr>\n",
       "    <tr>\n",
       "      <th>2007</th>\n",
       "      <td>97208.474130</td>\n",
       "    </tr>\n",
       "    <tr>\n",
       "      <th>2008</th>\n",
       "      <td>65890.208616</td>\n",
       "    </tr>\n",
       "    <tr>\n",
       "      <th>2009</th>\n",
       "      <td>64899.941320</td>\n",
       "    </tr>\n",
       "    <tr>\n",
       "      <th>2010</th>\n",
       "      <td>6653.851602</td>\n",
       "    </tr>\n",
       "    <tr>\n",
       "      <th>2011</th>\n",
       "      <td>10350.660650</td>\n",
       "    </tr>\n",
       "    <tr>\n",
       "      <th>2012</th>\n",
       "      <td>127710.406507</td>\n",
       "    </tr>\n",
       "    <tr>\n",
       "      <th>2013</th>\n",
       "      <td>103542.218895</td>\n",
       "    </tr>\n",
       "    <tr>\n",
       "      <th>2014</th>\n",
       "      <td>46651.909107</td>\n",
       "    </tr>\n",
       "    <tr>\n",
       "      <th>2015</th>\n",
       "      <td>61359.745857</td>\n",
       "    </tr>\n",
       "  </tbody>\n",
       "</table>\n",
       "</div>"
      ],
      "text/plain": [
       "      fire_size_hectares\n",
       "year                    \n",
       "1992        25899.921086\n",
       "1993        17482.851419\n",
       "1994        19769.328828\n",
       "1995         9491.916392\n",
       "1996        43167.074725\n",
       "1997        20027.923352\n",
       "1998        11397.584023\n",
       "1999        50544.505372\n",
       "2000        30351.470023\n",
       "2001        27434.491411\n",
       "2002        60984.601688\n",
       "2003       113336.031242\n",
       "2004        15838.611117\n",
       "2005        25671.678032\n",
       "2006        65843.265009\n",
       "2007        97208.474130\n",
       "2008        65890.208616\n",
       "2009        64899.941320\n",
       "2010         6653.851602\n",
       "2011        10350.660650\n",
       "2012       127710.406507\n",
       "2013       103542.218895\n",
       "2014        46651.909107\n",
       "2015        61359.745857"
      ]
     },
     "execution_count": 35,
     "metadata": {},
     "output_type": "execute_result"
    }
   ],
   "source": [
    "# YOUR CODE HERE\n",
    "max_fire_per_year_hect_df = ca_fires_df.groupby([\"year\"])[[\"fire_size_hectares\"]].max()\n",
    "max_fire_per_year_hect_df"
   ]
  },
  {
   "cell_type": "code",
   "execution_count": null,
   "metadata": {
    "deletable": false,
    "editable": false,
    "nbgrader": {
     "cell_type": "code",
     "checksum": "ba3970b1aaad3df8f9906a01a7eb184e",
     "grade": true,
     "grade_id": "cell-db940c2b49d7608f",
     "locked": true,
     "points": 12,
     "schema_version": 3,
     "solution": false,
     "task": false
    }
   },
   "outputs": [],
   "source": [
    "# DO NOT MODIFY THIS CELL\n"
   ]
  },
  {
   "cell_type": "markdown",
   "metadata": {
    "deletable": false,
    "editable": false,
    "nbgrader": {
     "cell_type": "markdown",
     "checksum": "c078f7f1f714a4329c5b3f209052c8a9",
     "grade": false,
     "grade_id": "question-reset-index",
     "locked": true,
     "schema_version": 3,
     "solution": false,
     "task": false
    }
   },
   "source": [
    "## Reset Index in Pandas Dataframe\n",
    "\n",
    "In the cell below, add code **after the line for `Your Code Here`**, replacing `raise NotImplementedError()` with your code, to complete the following task:\n",
    "1. Reset the index of the dataframe created in the previous question (i.e. return row index to range starting at [0]). \n",
    "    * Use the appropriate code so that you **do not have to create a new pandas dataframe.** "
   ]
  },
  {
   "cell_type": "code",
   "execution_count": 36,
   "metadata": {
    "deletable": false,
    "nbgrader": {
     "cell_type": "code",
     "checksum": "a310053f474f93930c028b3ca8b5e493",
     "grade": false,
     "grade_id": "student-reset-index-answer",
     "locked": false,
     "schema_version": 3,
     "solution": true,
     "task": false
    }
   },
   "outputs": [],
   "source": [
    "# YOUR CODE HERE\n",
    "max_fire_per_year_hect_df.reset_index(inplace=True)"
   ]
  },
  {
   "cell_type": "code",
   "execution_count": null,
   "metadata": {
    "deletable": false,
    "editable": false,
    "nbgrader": {
     "cell_type": "code",
     "checksum": "d7a0ec6eac10443430b4cae728502014",
     "grade": true,
     "grade_id": "index-reset-tests",
     "locked": true,
     "points": 12,
     "schema_version": 3,
     "solution": false,
     "task": false
    }
   },
   "outputs": [],
   "source": [
    "# DO NOT MODIFY THIS CELL\n"
   ]
  },
  {
   "cell_type": "markdown",
   "metadata": {
    "deletable": false,
    "editable": false,
    "nbgrader": {
     "cell_type": "markdown",
     "checksum": "c545a96464cf3850d9530e0953544b30",
     "grade": false,
     "grade_id": "cell-88c9f3b6840805f8",
     "locked": true,
     "schema_version": 3,
     "solution": false,
     "task": false
    }
   },
   "source": [
    "<img style=\"float: left;\" src=\"colored-bar.png\"/>"
   ]
  },
  {
   "cell_type": "markdown",
   "metadata": {
    "deletable": false,
    "editable": false,
    "nbgrader": {
     "cell_type": "markdown",
     "checksum": "abedf626e293bd74e98a1ed49e303cb9",
     "grade": false,
     "grade_id": "question-plot",
     "locked": true,
     "schema_version": 3,
     "solution": false
    }
   },
   "source": [
    "## Create Figure From Columns in Pandas Dataframe\n",
    "\n",
    "In the cell below, complete the following task:\n",
    "\n",
    "* Create a figure with two subplots. Each subplot should use the `.plot()` function and should contain a point for each datapoint and a line that connects the points to represent trends. \n",
    "\n",
    "1. The first subplot should contain **maximum fire size per year**.\n",
    "2. The second plot in your figure should contain **mean fire size per year**\n",
    "\n",
    "* Be sure to include an appropriate title and axes labels including units of measurement where appropriate. \n",
    "\n",
    "For your title and labels, be sure to think about the following pieces of information that could help someone easily interpret the plot:\n",
    "* geographic coverage or extent of data.\n",
    "* duration or temporal extent of the data.\n",
    "* what was actually measured and/or represented by the data.\n",
    "* units of measurement.\n",
    "\n",
    "**Request for our autograder:** please comment out the code line `plt.show()` in your plot code like this: `# plt.show()`. If you do not comment out that code line, you may see an extra empty plot underneath your desired figure. "
   ]
  },
  {
   "cell_type": "code",
   "execution_count": 51,
   "metadata": {
    "deletable": false,
    "nbgrader": {
     "cell_type": "code",
     "checksum": "85716f19fe45480462b8bc1b470dec68",
     "grade": false,
     "grade_id": "student-create-plot-1-answer",
     "locked": false,
     "schema_version": 3,
     "solution": true,
     "task": false
    }
   },
   "outputs": [
    {
     "data": {
      "image/png": "[encoded data removed]",
      "text/plain": [
       "<Figure size 1008x432 with 2 Axes>"
      ]
     },
     "metadata": {
      "needs_background": "light"
     },
     "output_type": "display_data"
    },
    {
     "ename": "NameError",
     "evalue": "name 'nb' is not defined",
     "output_type": "error",
     "traceback": [
      "\u001b[0;31m---------------------------------------------------------------------------\u001b[0m",
      "\u001b[0;31mNameError\u001b[0m                                 Traceback (most recent call last)",
      "Input \u001b[0;32mIn [51]\u001b[0m, in \u001b[0;36m<module>\u001b[0;34m\u001b[0m\n\u001b[1;32m     33\u001b[0m plt\u001b[38;5;241m.\u001b[39mshow()\n\u001b[1;32m     35\u001b[0m \u001b[38;5;66;03m### DO NOT REMOVE LINE BELOW ###\u001b[39;00m\n\u001b[0;32m---> 36\u001b[0m ts_1_plot \u001b[38;5;241m=\u001b[39m \u001b[43mnb\u001b[49m\u001b[38;5;241m.\u001b[39mconvert_axes(plt, which_axes\u001b[38;5;241m=\u001b[39m\u001b[38;5;124m\"\u001b[39m\u001b[38;5;124mall\u001b[39m\u001b[38;5;124m\"\u001b[39m)\n",
      "\u001b[0;31mNameError\u001b[0m: name 'nb' is not defined"
     ]
    }
   ],
   "source": [
    "# DO NOT MODIFY THIS CELL!\n",
    "# Create a figure with 2 axis's - 1 row, 2 columns\n",
    "fig, (ax1, ax2) = plt.subplots(1,2, figsize = (14,6))\n",
    "\n",
    "# Create scatter graph for max fire size per year\n",
    "ax1.plot( max_fire_per_year_hect_df.year,\n",
    "    max_fire_per_year_hect_df.fire_size_hectares,\n",
    "         marker = \"o\",\n",
    "      color = \"orange\")\n",
    "\n",
    "# Add bar graph labels\n",
    "ax1.set(title = \"Max Fire Size Per Year\",\n",
    "       xlabel = \"Year\",\n",
    "       ylabel = \"Fire Size in hectares\"\n",
    "      )\n",
    "\n",
    "# Create df for mean fire size per year\n",
    "mean_fire_per_year_hect_df = ca_fires_df.groupby([\"year\"])[[\"fire_size_hectares\"]].mean()\n",
    "mean_fire_per_year_hect_df.reset_index(inplace=True)\n",
    "\n",
    "\n",
    "# Create scatter plot showing mean fire size in hectares per year\n",
    "ax2.plot(mean_fire_per_year_hect_df.year,\n",
    "           mean_fire_per_year_hect_df.fire_size_hectares,\n",
    "           color = \"orange\",\n",
    "        marker = \"o\")\n",
    "\n",
    "# Add scatter plot labels\n",
    "ax2.set(title = \"Average Annual Fire Size\",\n",
    "       xlabel = \"Year\",\n",
    "       ylabel = \"Mean Fire Size (hectares)\")\n",
    "\n",
    "plt.show()\n",
    "\n",
    "### DO NOT REMOVE LINE BELOW ###\n",
    "ts_1_plot = nb.convert_axes(plt, which_axes=\"all\")"
   ]
  },
  {
   "cell_type": "code",
   "execution_count": null,
   "metadata": {
    "deletable": false,
    "editable": false,
    "nbgrader": {
     "cell_type": "code",
     "checksum": "11903a8db6b7384be2009ef6e83722e6",
     "grade": true,
     "grade_id": "cell-a4b45b71c3a479b6",
     "locked": true,
     "points": 12,
     "schema_version": 3,
     "solution": false,
     "task": false
    }
   },
   "outputs": [],
   "source": [
    "# DO NO MODIFY THIS CELL\n"
   ]
  },
  {
   "cell_type": "markdown",
   "metadata": {
    "deletable": false,
    "editable": false,
    "nbgrader": {
     "cell_type": "markdown",
     "checksum": "cbb054d307d943d0e2f3cbd556292dd9",
     "grade": false,
     "grade_id": "cell-7f788bfc379b83e8",
     "locked": true,
     "schema_version": 3,
     "solution": false,
     "task": false
    }
   },
   "source": [
    "## Group DataFrame by Two Columns\n",
    "\n",
    "You can group a dataframe by two (or more) columns using the syntax:\n",
    "```\n",
    "dataframe.groupby([\"column1-name\",\"column2-name\"])\n",
    "```\n",
    "\n",
    "In the cell below, calculate the max fire size in hectares for each year  and \n",
    "grouped by the `cause` column. At the end of the cell, be sure to add the \n",
    "output dataframe so the first and last 5 rows print below (do not use the print()) \n",
    "statement! Just call the variable at the end of the cell.\n",
    "\n",
    "Your final dataframe will look something like this:\n",
    "\n",
    "```\n",
    " \t\t      fire_size_hectares\n",
    "year \tcause \t\n",
    "1992 \tArson \t25899.921086\n",
    "```"
   ]
  },
  {
   "cell_type": "code",
   "execution_count": 59,
   "metadata": {
    "deletable": false,
    "nbgrader": {
     "cell_type": "code",
     "checksum": "945fd5e12d7075bb7d1785e169104cb9",
     "grade": false,
     "grade_id": "cell-999afc5ac2484d8f",
     "locked": false,
     "schema_version": 3,
     "solution": true,
     "task": false
    }
   },
   "outputs": [
    {
     "data": {
      "text/html": [
       "<div>\n",
       "<style scoped>\n",
       "    .dataframe tbody tr th:only-of-type {\n",
       "        vertical-align: middle;\n",
       "    }\n",
       "\n",
       "    .dataframe tbody tr th {\n",
       "        vertical-align: top;\n",
       "    }\n",
       "\n",
       "    .dataframe thead th {\n",
       "        text-align: right;\n",
       "    }\n",
       "</style>\n",
       "<table border=\"1\" class=\"dataframe\">\n",
       "  <thead>\n",
       "    <tr style=\"text-align: right;\">\n",
       "      <th></th>\n",
       "      <th></th>\n",
       "      <th>fire_size_hectares</th>\n",
       "    </tr>\n",
       "    <tr>\n",
       "      <th>cause</th>\n",
       "      <th>year</th>\n",
       "      <th></th>\n",
       "    </tr>\n",
       "  </thead>\n",
       "  <tbody>\n",
       "    <tr>\n",
       "      <th rowspan=\"5\" valign=\"top\">Arson</th>\n",
       "      <th>1992</th>\n",
       "      <td>25899.921086</td>\n",
       "    </tr>\n",
       "    <tr>\n",
       "      <th>1993</th>\n",
       "      <td>15439.590457</td>\n",
       "    </tr>\n",
       "    <tr>\n",
       "      <th>1994</th>\n",
       "      <td>19769.328828</td>\n",
       "    </tr>\n",
       "    <tr>\n",
       "      <th>1995</th>\n",
       "      <td>3579.450031</td>\n",
       "    </tr>\n",
       "    <tr>\n",
       "      <th>1996</th>\n",
       "      <td>33719.673823</td>\n",
       "    </tr>\n",
       "    <tr>\n",
       "      <th rowspan=\"5\" valign=\"top\">Structure</th>\n",
       "      <th>2005</th>\n",
       "      <td>1247.243075</td>\n",
       "    </tr>\n",
       "    <tr>\n",
       "      <th>2008</th>\n",
       "      <td>50.585783</td>\n",
       "    </tr>\n",
       "    <tr>\n",
       "      <th>2011</th>\n",
       "      <td>139.616762</td>\n",
       "    </tr>\n",
       "    <tr>\n",
       "      <th>2012</th>\n",
       "      <td>64.749803</td>\n",
       "    </tr>\n",
       "    <tr>\n",
       "      <th>2015</th>\n",
       "      <td>28070.253536</td>\n",
       "    </tr>\n",
       "  </tbody>\n",
       "</table>\n",
       "</div>"
      ],
      "text/plain": [
       "                fire_size_hectares\n",
       "cause     year                    \n",
       "Arson     1992        25899.921086\n",
       "          1993        15439.590457\n",
       "          1994        19769.328828\n",
       "          1995         3579.450031\n",
       "          1996        33719.673823\n",
       "Structure 2005         1247.243075\n",
       "          2008           50.585783\n",
       "          2011          139.616762\n",
       "          2012           64.749803\n",
       "          2015        28070.253536"
      ]
     },
     "execution_count": 59,
     "metadata": {},
     "output_type": "execute_result"
    }
   ],
   "source": [
    "# YOUR CODE HERE\n",
    "group_by_cause = ca_fires_df.groupby([\"cause\",\"year\"])[[\"fire_size_hectares\"]].max()\n",
    "\n",
    "sliced_df = group_by_cause.head(5)\n",
    "sliced_df = sliced_df.append(group_by_cause.tail(5))\n",
    "sliced_df\n"
   ]
  },
  {
   "cell_type": "code",
   "execution_count": 55,
   "metadata": {
    "deletable": false,
    "editable": false,
    "nbgrader": {
     "cell_type": "code",
     "checksum": "39f55155f07afc0f06c47733322588c6",
     "grade": true,
     "grade_id": "cell-705037589c745712",
     "locked": true,
     "points": 0,
     "schema_version": 3,
     "solution": false,
     "task": false
    }
   },
   "outputs": [
    {
     "name": "stdout",
     "output_type": "stream",
     "text": [
      "✅ Great job! Your data were correctly Data read in as a DataFrame, well done!\n",
      "\n",
      " ➡ This is just a test cell to ensure you created a dataframe above!\n"
     ]
    },
    {
     "data": {
      "text/html": [
       "<div>\n",
       "<style scoped>\n",
       "    .dataframe tbody tr th:only-of-type {\n",
       "        vertical-align: middle;\n",
       "    }\n",
       "\n",
       "    .dataframe tbody tr th {\n",
       "        vertical-align: top;\n",
       "    }\n",
       "\n",
       "    .dataframe thead th {\n",
       "        text-align: right;\n",
       "    }\n",
       "</style>\n",
       "<table border=\"1\" class=\"dataframe\">\n",
       "  <thead>\n",
       "    <tr style=\"text-align: right;\">\n",
       "      <th></th>\n",
       "      <th></th>\n",
       "      <th>fire_size_hectares</th>\n",
       "    </tr>\n",
       "    <tr>\n",
       "      <th>year</th>\n",
       "      <th>cause</th>\n",
       "      <th></th>\n",
       "    </tr>\n",
       "  </thead>\n",
       "  <tbody>\n",
       "    <tr>\n",
       "      <th rowspan=\"10\" valign=\"top\">1992</th>\n",
       "      <th>Arson</th>\n",
       "      <td>25899.921086</td>\n",
       "    </tr>\n",
       "    <tr>\n",
       "      <th>Campfire</th>\n",
       "      <td>3237.490136</td>\n",
       "    </tr>\n",
       "    <tr>\n",
       "      <th>Children</th>\n",
       "      <td>645.879282</td>\n",
       "    </tr>\n",
       "    <tr>\n",
       "      <th>Debris Burning</th>\n",
       "      <td>728.435281</td>\n",
       "    </tr>\n",
       "    <tr>\n",
       "      <th>Equipment Use</th>\n",
       "      <td>3047.287590</td>\n",
       "    </tr>\n",
       "    <tr>\n",
       "      <th>Arson</th>\n",
       "      <td>25899.921086</td>\n",
       "    </tr>\n",
       "    <tr>\n",
       "      <th>Campfire</th>\n",
       "      <td>3237.490136</td>\n",
       "    </tr>\n",
       "    <tr>\n",
       "      <th>Children</th>\n",
       "      <td>645.879282</td>\n",
       "    </tr>\n",
       "    <tr>\n",
       "      <th>Debris Burning</th>\n",
       "      <td>728.435281</td>\n",
       "    </tr>\n",
       "    <tr>\n",
       "      <th>Equipment Use</th>\n",
       "      <td>3047.287590</td>\n",
       "    </tr>\n",
       "  </tbody>\n",
       "</table>\n",
       "</div>"
      ],
      "text/plain": [
       "                     fire_size_hectares\n",
       "year cause                             \n",
       "1992 Arson                 25899.921086\n",
       "     Campfire               3237.490136\n",
       "     Children                645.879282\n",
       "     Debris Burning          728.435281\n",
       "     Equipment Use          3047.287590\n",
       "     Arson                 25899.921086\n",
       "     Campfire               3237.490136\n",
       "     Children                645.879282\n",
       "     Debris Burning          728.435281\n",
       "     Equipment Use          3047.287590"
      ]
     },
     "execution_count": 55,
     "metadata": {},
     "output_type": "execute_result"
    }
   ],
   "source": [
    "# DO NOT MODIFY THIS CELL!\n",
    "fire_by_cause = _\n",
    "\n",
    "# Tests that the datset is a pandas dataset\n",
    "if type(fire_by_cause) == pd.DataFrame:\n",
    "    print(\"\\u2705 Great job! Your data were correctly Data read in as a DataFrame, well done!\")\n",
    "else:\n",
    "    print(\n",
    "        \"\\u274C Oops. Your data is not a Dataframe. Make sure to run the cell directly \"\n",
    "        + \"above this one immediately before running these tests.\"\n",
    "    )\n",
    "    \n",
    "print(\"\\n \\u27A1 This is just a test cell to ensure you created a dataframe above!\")\n",
    "\n",
    "fire_by_cause"
   ]
  },
  {
   "cell_type": "code",
   "execution_count": null,
   "metadata": {
    "deletable": false,
    "editable": false,
    "nbgrader": {
     "cell_type": "code",
     "checksum": "01a245ef3f146304e2997174822cbc00",
     "grade": true,
     "grade_id": "cell-29e87ca0f710c98d",
     "locked": true,
     "points": 5,
     "schema_version": 3,
     "solution": false,
     "task": false
    }
   },
   "outputs": [],
   "source": [
    "# DO NOT MODIFY THIS CELL!\n"
   ]
  },
  {
   "cell_type": "markdown",
   "metadata": {
    "deletable": false,
    "editable": false,
    "nbgrader": {
     "cell_type": "markdown",
     "checksum": "f1949355f1317ef67d84740a0baa5d87",
     "grade": false,
     "grade_id": "question-explain-plot",
     "locked": true,
     "schema_version": 3,
     "solution": false
    }
   },
   "source": [
    "## Explain Your Data and Plot\n",
    "\n",
    "In the Markdown cell below, answer the following questions about your data and plot using any kind of Markdown list.\n",
    "\n",
    "1. Does the maximum size of fires appear to be increasing over time in California? Explain your answer using the plot.\n",
    "\n",
    "2. Are the year tick marks in your plot being generated from text strings or numeric data? Explain your answer using the dataset and/or plot. \n",
    "\n",
    "3. According to this dataset, how many fires greater than 100 acres occurred between 1992 and 2015 in California? Explain your answer using the dataset.\n",
    "\n",
    "Remove any existing text in the cell before adding your answer."
   ]
  },
  {
   "cell_type": "markdown",
   "metadata": {
    "deletable": false,
    "nbgrader": {
     "cell_type": "markdown",
     "checksum": "4f3a73fe0c1712974c44d8531307384b",
     "grade": true,
     "grade_id": "student-explain-plot-answer",
     "locked": false,
     "points": 10,
     "schema_version": 3,
     "solution": true
    }
   },
   "source": [
    "YOUR ANSWER HERE"
   ]
  },
  {
   "cell_type": "markdown",
   "metadata": {
    "deletable": false,
    "editable": false,
    "nbgrader": {
     "cell_type": "markdown",
     "checksum": "98ba1484c4901e36ffd760a988fc83f3",
     "grade": false,
     "grade_id": "cell-67457fd35a504a90",
     "locked": true,
     "schema_version": 3,
     "solution": false,
     "task": false
    }
   },
   "source": [
    "<img style=\"float: left;\" src=\"colored-bar.png\"/>"
   ]
  },
  {
   "cell_type": "markdown",
   "metadata": {
    "deletable": false,
    "editable": false,
    "nbgrader": {
     "cell_type": "markdown",
     "checksum": "f5761d873ac214f3c4b311021344fb07",
     "grade": false,
     "grade_id": "question-explain-pep-8",
     "locked": true,
     "schema_version": 3,
     "solution": false,
     "task": false
    }
   },
   "source": [
    "## Discuss Your Workflow\n",
    "\n",
    "In the Markdown cell below, answer the following questions using any kind of Markdown list.\n",
    "\n",
    "1. Explain why this notebook asks you to reset the index of the dataframe with the maximum fire size per year *before* you plot the data.   \n",
    "\n",
    "Remove any existing text in the cell before adding your answer."
   ]
  },
  {
   "cell_type": "markdown",
   "metadata": {
    "deletable": false,
    "nbgrader": {
     "cell_type": "markdown",
     "checksum": "7a66815bf18d4c139714e072691069cb",
     "grade": true,
     "grade_id": "student-explain-pep-8",
     "locked": false,
     "points": 5,
     "schema_version": 3,
     "solution": true,
     "task": false
    }
   },
   "source": [
    "YOUR ANSWER HERE"
   ]
  },
  {
   "cell_type": "markdown",
   "metadata": {
    "deletable": false,
    "editable": false,
    "nbgrader": {
     "cell_type": "markdown",
     "checksum": "c18048ce04abdf042181b18f1363b421",
     "grade": false,
     "grade_id": "cell-c9fedb63ea1af0bc",
     "locked": true,
     "schema_version": 3,
     "solution": false,
     "task": false
    }
   },
   "source": [
    "<img style=\"float: left;\" src=\"colored-bar.png\"/>"
   ]
  },
  {
   "cell_type": "markdown",
   "metadata": {
    "deletable": false,
    "editable": false,
    "nbgrader": {
     "cell_type": "markdown",
     "checksum": "17862c99428896ecb8cc849123ea4fba",
     "grade": false,
     "grade_id": "cell-2a99d3880f0ed8a8",
     "locked": true,
     "points": 12,
     "schema_version": 3,
     "solution": false,
     "task": true
    }
   },
   "source": [
    "## Pep 8, Spelling and Does the Notebook Run?\n",
    "In this cell, we will give you points for the following\n",
    "\n",
    "1. PEP 8 is followed throughout the notebook (4 points)\n",
    "2. Spelling and grammar are considered in your written responses above (4 points)\n",
    "3. The notebook runs from top to bottom without any editing (it is reproducible) - 4 points"
   ]
  }
 ],
 "metadata": {
  "kernelspec": {
   "display_name": "Python 3 (ipykernel)",
   "language": "python",
   "name": "python3"
  },
  "language_info": {
   "codemirror_mode": {
    "name": "ipython",
    "version": 3
   },
   "file_extension": ".py",
   "mimetype": "text/x-python",
   "name": "python",
   "nbconvert_exporter": "python",
   "pygments_lexer": "ipython3",
   "version": "3.8.12"
  },
  "toc": {
   "base_numbering": 1,
   "nav_menu": {},
   "number_sections": true,
   "sideBar": true,
   "skip_h1_title": false,
   "title_cell": "Table of Contents",
   "title_sidebar": "Contents",
   "toc_cell": false,
   "toc_position": {},
   "toc_section_display": true,
   "toc_window_display": true
  },
  "varInspector": {
   "cols": {
    "lenName": 16,
    "lenType": 16,
    "lenVar": 40
   },
   "kernels_config": {
    "python": {
     "delete_cmd_postfix": "",
     "delete_cmd_prefix": "del ",
     "library": "var_list.py",
     "varRefreshCmd": "print(var_dic_list())"
    },
    "r": {
     "delete_cmd_postfix": ") ",
     "delete_cmd_prefix": "rm(",
     "library": "var_list.r",
     "varRefreshCmd": "cat(var_dic_list()) "
    }
   },
   "types_to_exclude": [
    "module",
    "function",
    "builtin_function_or_method",
    "instance",
    "_Feature"
   ],
   "window_display": false
  }
 },
 "nbformat": 4,
 "nbformat_minor": 2
}
